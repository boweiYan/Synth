{
 "metadata": {
  "name": "Gmean-test"
 },
 "nbformat": 3,
 "nbformat_minor": 0,
 "worksheets": [
  {
   "cells": [
    {
     "cell_type": "code",
     "collapsed": false,
     "input": "import numpy as np\nimport math\n\n# define functions\nTP = lambda f: (f*eta*mu).sum()\nTN = lambda f: ((1-f)*(1-eta)*mu).sum()\nFP = lambda f: (f*(1-eta)*mu).sum()\nFN = lambda f: ((1-f)*eta*mu).sum()\nG = lambda f: np.sqrt( (TP(f)*TN(f))/( (TP(f)+FN(f))*(TN(f)+FP(f)) ) )\n\n# define gradient dL/dC\ngTP = lambda f: G(f)/(2*TP(f)) - G(f)/(2*(TP(f) + FN(f)))\ngTN = lambda f: G(f)/(2*TN(f)) - G(f)/(2*(TN(f) + FP(f)))\ngFN = lambda f: -(G(f)**3)*(TN(f) + FP(f))/(2*TP(f)*TN(f))\ngFP = lambda f: -(G(f)**3)*(TP(f) + FN(f))/(2*TP(f)*TN(f))\n\n# define constants c1, c2 so grad(f) = c1*eta(x) + c2\nc1 = lambda f: gTP(f) + gTN(f) - gFP(f) - gFN(f)\nc2 = lambda f: gFP(f) - gTN(f)\n# f* = sign(eta - delta)\ndelta = lambda f: -c2(f)/c1(f)",
     "language": "python",
     "metadata": {},
     "outputs": [],
     "prompt_number": 25
    },
    {
     "cell_type": "code",
     "collapsed": false,
     "input": "# define probabilities\nmu = np.array([.25, .5, .25])\neps=0.09\neta = np.array([0.5-eps, 0.5, 0.5+eps])\nprint eta",
     "language": "python",
     "metadata": {},
     "outputs": [
      {
       "output_type": "stream",
       "stream": "stdout",
       "text": "[ 0.41  0.5   0.59]\n"
      }
     ],
     "prompt_number": 26
    },
    {
     "cell_type": "code",
     "collapsed": false,
     "input": "# Find best classifier\nK = len(mu)\nbestF = np.zeros(K)\nbestS = H(bestF)\nfor ik in range(int(math.pow(2,K))):\n    f = np.array([int(x) for x in np.binary_repr(ik, K)], dtype=float)\n    score = G(f)\n    print f, score\n    if score > bestS:\n        bestF = f.copy()\n        bestS = score",
     "language": "python",
     "metadata": {},
     "outputs": [
      {
       "output_type": "stream",
       "stream": "stdout",
       "text": "[ 0.  0.  0.] 0.0\n[ 0.  0.  1.] 0.484277812831\n[ 0.  1.  0.] 0.5\n[ 0.  1.  1.] 0.484277812831\n[ 1.  0.  0.] 0.380164438105\n[ 1.  0.  1.] 0.5\n[ 1.  1.  0.] 0.380164438105\n[ 1.  1.  1.] 0.0\n"
      }
     ],
     "prompt_number": 27
    },
    {
     "cell_type": "code",
     "collapsed": false,
     "input": "print \"------\"\nprint bestF\nprint TP(bestF), FP(bestF), FN(bestF), TN(bestF), G(bestF)\nprint gTP(bestF), gTN(bestF), gFN(bestF), gFP(bestF)\nprint c1(bestF), c2(bestF), thresh(bestF)\nprint eta - delta(bestF)\n\nprint \"------\"\nfs = np.array([0,0.5,1])\nprint fs\nprint TP(fs), FP(fs), FN(fs), TN(fs), G(fs)\nprint gTP(fs), gTN(fs), gFN(fs), gFP(fs)\nprint c1(fs), c2(fs), thresh(fs)\nprint eta - delta(fs)",
     "language": "python",
     "metadata": {},
     "outputs": [
      {
       "output_type": "stream",
       "stream": "stdout",
       "text": "------\n[ 0.  1.  0.]\n0.25 0.25 0.25 0.25 0.5\n0.5 0.5 -0.5 -0.5\n2.0 -1.0 0.5\n[-0.09  0.    0.09]\n------\n[ 0.   0.5  1. ]\n0.2725 0.2275 0.2275 0.2725 0.545\n0.455 0.455 -0.545 -0.545\n2.0 -1.0 0.5\n[-0.09  0.    0.09]\n"
      }
     ],
     "prompt_number": 28
    },
    {
     "cell_type": "code",
     "collapsed": false,
     "input": "",
     "language": "python",
     "metadata": {},
     "outputs": [],
     "prompt_number": 28
    }
   ],
   "metadata": {}
  }
 ]
}