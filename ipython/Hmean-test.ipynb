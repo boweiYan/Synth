{
 "metadata": {
  "name": "Hmean-test"
 },
 "nbformat": 3,
 "nbformat_minor": 0,
 "worksheets": [
  {
   "cells": [
    {
     "cell_type": "code",
     "collapsed": false,
     "input": "import numpy as np\nimport math\n\n# define functions\nTP = lambda f: (f*eta*mu).sum()\nTN = lambda f: ((1-f)*(1-eta)*mu).sum()\nFP = lambda f: (f*(1-eta)*mu).sum()\nFN = lambda f: ((1-f)*eta*mu).sum()\nH = lambda f: (2*TP(f)*TN(f))/(2*TP(f)*TN(f) + FP(f)*TP(f) + FN(f)*TN(f) )\n\n# define gradient\nhTP = lambda f: (2*FN(f)*(TN(f)**2))/((TN(f)*FN(f) + TP(f)*(2*TN(f) + FP(f)) )**2)\nhTN = lambda f: (2*FP(f)*(TP(f)**2))/((TP(f)*FP(f) + TN(f)*(2*TP(f) + FN(f)) )**2)\nhFN = lambda f: (-2*TP(f)*(TN(f)**2))/((TN(f)*FN(f) + 2*TP(f)*TN(f) + FP(f)*TP(f) )**2)\nhFP = lambda f: (-2*TN(f)*(TP(f)**2))/((TP(f)*FP(f) + 2*TP(f)*TN(f) + FN(f)*TN(f) )**2)\n\n# define constants c1, c2 so grad(f) = c1*eta(x) + c2\nc1 = lambda f: hTP(f) + hTN(f) - hFP(f) - hFN(f)\nc2 = lambda f: hFP(f) - hTN(f)\n# f* = sign(eta - delta)\ndelta = lambda f: -c2(f)/c1(f)",
     "language": "python",
     "metadata": {},
     "outputs": [],
     "prompt_number": 287
    },
    {
     "cell_type": "code",
     "collapsed": false,
     "input": "# define probabilities\nmu = np.array([.25, .5, .25])\neps=0.3\neta = np.array([0.5-eps, 0.5, 0.5+eps])\nprint eta",
     "language": "python",
     "metadata": {},
     "outputs": [
      {
       "output_type": "stream",
       "stream": "stdout",
       "text": "[ 0.2  0.5  0.8]\n"
      }
     ],
     "prompt_number": 288
    },
    {
     "cell_type": "code",
     "collapsed": false,
     "input": "# Find best classifier\nK = len(mu)\nbestF = np.zeros(K)\nbestS = H(bestF)\nfor ik in range(int(math.pow(2,K))):\n    f = np.array([int(x) for x in np.binary_repr(ik, K)], dtype=float)\n    score = H(f)\n    print f, hTP(f), hTN(f), hFN(f), hFP(f), score\n    if score > bestS:\n        bestF = f.copy()\n        bestS = score",
     "language": "python",
     "metadata": {},
     "outputs": [
      {
       "output_type": "stream",
       "stream": "stdout",
       "text": "[ 0.  0.  0.] 4.0 0.0 -0.0 -0.0 0.0\n[ 0.  0.  1.] 1.15029585799 0.0378698224852 -0.766863905325 -0.340828402367 0.553846153846\n[ 0.  1.  0.] 0.5 0.5 -0.5 -0.5 0.5\n[ 0.  1.  1.] 0.0378698224852 1.15029585799 -0.340828402367 -0.766863905325 0.553846153846\n[ 1.  0.  0.] 2.64489795918 0.0326530612245 -0.29387755102 -0.0489795918367 0.171428571429\n[ 1.  0.  1.] 0.5 0.5 -0.5 -0.5 0.5\n[ 1.  1.  0.] 0.0326530612245 2.64489795918 -0.0489795918367 -0.29387755102 0.171428571429\n[ 1.  1.  1.] 0.0 4.0 -0.0 -0.0 0.0\n"
      }
     ],
     "prompt_number": 289
    },
    {
     "cell_type": "code",
     "collapsed": false,
     "input": "print \"------\"\nprint bestF\nprint TP(bestF), FP(bestF), FN(bestF), TN(bestF), H(bestF)\nprint hTP(bestF), hTN(bestF), hFN(bestF), hFP(bestF)\nprint c1(bestF), c2(bestF), thresh(bestF)\nprint eta - delta(bestF)\n\nprint \"------\"\nfs = np.array([0,0.5,1])\nprint fs\nprint TP(fs), FP(fs), FN(fs), TN(fs), H(fs)\nprint hTP(fs), hTN(fs), hFN(fs), hFP(fs)\nprint c1(fs), c2(fs), thresh(fs)\nprint eta - delta(fs)",
     "language": "python",
     "metadata": {},
     "outputs": [
      {
       "output_type": "stream",
       "stream": "stdout",
       "text": "------\n[ 0.  0.  1.]\n0.2 0.05 0.3 0.45 0.553846153846\n1.15029585799 0.0378698224852 -0.766863905325 -0.340828402367\n2.29585798817 -0.378698224852 -0.164948453608\n[ 0.03505155  0.33505155  0.63505155]\n------\n[ 0.   0.5  1. ]\n0.325 0.175 0.175 0.325 0.65\n0.35 0.35 -0.65 -0.65\n2.0 -1.0 -0.5\n[-0.3  0.   0.3]\n"
      }
     ],
     "prompt_number": 290
    },
    {
     "cell_type": "code",
     "collapsed": false,
     "input": "\n",
     "language": "python",
     "metadata": {},
     "outputs": [],
     "prompt_number": 290
    },
    {
     "cell_type": "code",
     "collapsed": false,
     "input": "",
     "language": "python",
     "metadata": {},
     "outputs": [],
     "prompt_number": 290
    },
    {
     "cell_type": "code",
     "collapsed": false,
     "input": "",
     "language": "python",
     "metadata": {},
     "outputs": [],
     "prompt_number": 290
    },
    {
     "cell_type": "code",
     "collapsed": false,
     "input": "",
     "language": "python",
     "metadata": {},
     "outputs": [],
     "prompt_number": 290
    }
   ],
   "metadata": {}
  }
 ]
}